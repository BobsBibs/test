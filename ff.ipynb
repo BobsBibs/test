{
 "cells": [
  {
   "cell_type": "code",
   "execution_count": 2,
   "metadata": {},
   "outputs": [],
   "source": [
    "from selenium.webdriver import chrome"
   ]
  },
  {
   "cell_type": "code",
   "execution_count": 3,
   "metadata": {},
   "outputs": [],
   "source": [
    "from selenium import webdriver\n",
    "from selenium.webdriver.chrome.options import Options\n",
    "from selenium.webdriver.support.ui import WebDriverWait\n",
    "from selenium.webdriver.support import expected_conditions as EC\n",
    "from selenium.webdriver.common.by import By"
   ]
  },
  {
   "cell_type": "code",
   "execution_count": null,
   "metadata": {},
   "outputs": [],
   "source": [
    "chrome_options = Options()\n",
    "# chrome_options.add_argument(\"--disable-extensions\")\n",
    "# chrome_options.add_argument(\"--disable-gpu\")\n",
    "# chrome_options.add_argument(\"--no-sandbox\") # linux only\n",
    "chrome_options.add_argument(\"--headless=new\") # for Chrome >= 109\n",
    "# chrome_options.add_argument(\"--headless\")\n",
    "# chrome_options.headless = True # also works\n",
    "driver = webdriver.Chrome(options=chrome_options)"
   ]
  },
  {
   "cell_type": "code",
   "execution_count": 121,
   "metadata": {},
   "outputs": [],
   "source": [
    "driver = webdriver.Chrome()"
   ]
  },
  {
   "cell_type": "code",
   "execution_count": 49,
   "metadata": {},
   "outputs": [],
   "source": [
    "url = input()"
   ]
  },
  {
   "cell_type": "code",
   "execution_count": 50,
   "metadata": {},
   "outputs": [
    {
     "data": {
      "text/plain": [
       "'444'"
      ]
     },
     "execution_count": 50,
     "metadata": {},
     "output_type": "execute_result"
    }
   ],
   "source": [
    "url"
   ]
  },
  {
   "cell_type": "code",
   "execution_count": 136,
   "metadata": {},
   "outputs": [],
   "source": [
    "driver.get('https://zakupki.gov.ru/epz/contract/contractCard/process-info.html?reestrNumber=2780605903425000002')"
   ]
  },
  {
   "cell_type": "code",
   "execution_count": 123,
   "metadata": {},
   "outputs": [],
   "source": [
    "driver.find_element(By.XPATH, \"//div[@id='sslCertificateChecker-right']\").find_element(By.XPATH, \"//span[@class='btn-close closePopUp']\").click() #закрыть кнопку"
   ]
  },
  {
   "cell_type": "code",
   "execution_count": 137,
   "metadata": {},
   "outputs": [],
   "source": [
    "driver.find_element(By.XPATH, \"//td[.//div[contains(text(), '2025')]]//preceding-sibling::td//span[contains(@class, 'general-chevron-handler')]\").click() # раскрыть список по году\n"
   ]
  },
  {
   "cell_type": "code",
   "execution_count": 131,
   "metadata": {},
   "outputs": [
    {
     "ename": "NoSuchElementException",
     "evalue": "Message: no such element: Unable to locate element: {\"method\":\"xpath\",\"selector\":\"//td[contains(., '2025')]//preceding-sibling::td//span[@class='general-chevron-handler gp-chevron rl-90']\"}\n  (Session info: chrome=132.0.6834.160); For documentation on this error, please visit: https://www.selenium.dev/documentation/webdriver/troubleshooting/errors#no-such-element-exception\nStacktrace:\n\tGetHandleVerifier [0x00007FF7331A02F5+28725]\n\t(No symbol) [0x00007FF733102AE0]\n\t(No symbol) [0x00007FF732F9510A]\n\t(No symbol) [0x00007FF732FE93D2]\n\t(No symbol) [0x00007FF732FE95FC]\n\t(No symbol) [0x00007FF733033407]\n\t(No symbol) [0x00007FF73300FFEF]\n\t(No symbol) [0x00007FF733030181]\n\t(No symbol) [0x00007FF73300FD53]\n\t(No symbol) [0x00007FF732FDA0E3]\n\t(No symbol) [0x00007FF732FDB471]\n\tGetHandleVerifier [0x00007FF7334CF30D+3366989]\n\tGetHandleVerifier [0x00007FF7334E12F0+3440688]\n\tGetHandleVerifier [0x00007FF7334D78FD+3401277]\n\tGetHandleVerifier [0x00007FF73326AAAB+858091]\n\t(No symbol) [0x00007FF73310E74F]\n\t(No symbol) [0x00007FF73310A304]\n\t(No symbol) [0x00007FF73310A49D]\n\t(No symbol) [0x00007FF7330F8B69]\n\tBaseThreadInitThunk [0x00007FFE969C259D+29]\n\tRtlUserThreadStart [0x00007FFE988CAF38+40]\n",
     "output_type": "error",
     "traceback": [
      "\u001b[1;31m---------------------------------------------------------------------------\u001b[0m",
      "\u001b[1;31mNoSuchElementException\u001b[0m                    Traceback (most recent call last)",
      "Cell \u001b[1;32mIn[131], line 1\u001b[0m\n\u001b[1;32m----> 1\u001b[0m \u001b[43mdriver\u001b[49m\u001b[38;5;241;43m.\u001b[39;49m\u001b[43mfind_element\u001b[49m\u001b[43m(\u001b[49m\u001b[43mBy\u001b[49m\u001b[38;5;241;43m.\u001b[39;49m\u001b[43mXPATH\u001b[49m\u001b[43m,\u001b[49m\u001b[43m \u001b[49m\u001b[38;5;124;43m\"\u001b[39;49m\u001b[38;5;124;43m//td[contains(., \u001b[39;49m\u001b[38;5;124;43m'\u001b[39;49m\u001b[38;5;124;43m2025\u001b[39;49m\u001b[38;5;124;43m'\u001b[39;49m\u001b[38;5;124;43m)]//preceding-sibling::td//span[@class=\u001b[39;49m\u001b[38;5;124;43m'\u001b[39;49m\u001b[38;5;124;43mgeneral-chevron-handler gp-chevron rl-90\u001b[39;49m\u001b[38;5;124;43m'\u001b[39;49m\u001b[38;5;124;43m]\u001b[39;49m\u001b[38;5;124;43m\"\u001b[39;49m\u001b[43m)\u001b[49m\u001b[38;5;241m.\u001b[39mclick()\n",
      "File \u001b[1;32mc:\\Users\\belie\\test\\.env\\Lib\\site-packages\\selenium\\webdriver\\remote\\webdriver.py:888\u001b[0m, in \u001b[0;36mWebDriver.find_element\u001b[1;34m(self, by, value)\u001b[0m\n\u001b[0;32m    885\u001b[0m         \u001b[38;5;28;01mraise\u001b[39;00m NoSuchElementException(\u001b[38;5;124mf\u001b[39m\u001b[38;5;124m\"\u001b[39m\u001b[38;5;124mCannot locate relative element with: \u001b[39m\u001b[38;5;132;01m{\u001b[39;00mby\u001b[38;5;241m.\u001b[39mroot\u001b[38;5;132;01m}\u001b[39;00m\u001b[38;5;124m\"\u001b[39m)\n\u001b[0;32m    886\u001b[0m     \u001b[38;5;28;01mreturn\u001b[39;00m elements[\u001b[38;5;241m0\u001b[39m]\n\u001b[1;32m--> 888\u001b[0m \u001b[38;5;28;01mreturn\u001b[39;00m \u001b[38;5;28;43mself\u001b[39;49m\u001b[38;5;241;43m.\u001b[39;49m\u001b[43mexecute\u001b[49m\u001b[43m(\u001b[49m\u001b[43mCommand\u001b[49m\u001b[38;5;241;43m.\u001b[39;49m\u001b[43mFIND_ELEMENT\u001b[49m\u001b[43m,\u001b[49m\u001b[43m \u001b[49m\u001b[43m{\u001b[49m\u001b[38;5;124;43m\"\u001b[39;49m\u001b[38;5;124;43musing\u001b[39;49m\u001b[38;5;124;43m\"\u001b[39;49m\u001b[43m:\u001b[49m\u001b[43m \u001b[49m\u001b[43mby\u001b[49m\u001b[43m,\u001b[49m\u001b[43m \u001b[49m\u001b[38;5;124;43m\"\u001b[39;49m\u001b[38;5;124;43mvalue\u001b[39;49m\u001b[38;5;124;43m\"\u001b[39;49m\u001b[43m:\u001b[49m\u001b[43m \u001b[49m\u001b[43mvalue\u001b[49m\u001b[43m}\u001b[49m\u001b[43m)\u001b[49m[\u001b[38;5;124m\"\u001b[39m\u001b[38;5;124mvalue\u001b[39m\u001b[38;5;124m\"\u001b[39m]\n",
      "File \u001b[1;32mc:\\Users\\belie\\test\\.env\\Lib\\site-packages\\selenium\\webdriver\\remote\\webdriver.py:429\u001b[0m, in \u001b[0;36mWebDriver.execute\u001b[1;34m(self, driver_command, params)\u001b[0m\n\u001b[0;32m    427\u001b[0m response \u001b[38;5;241m=\u001b[39m \u001b[38;5;28mself\u001b[39m\u001b[38;5;241m.\u001b[39mcommand_executor\u001b[38;5;241m.\u001b[39mexecute(driver_command, params)\n\u001b[0;32m    428\u001b[0m \u001b[38;5;28;01mif\u001b[39;00m response:\n\u001b[1;32m--> 429\u001b[0m     \u001b[38;5;28;43mself\u001b[39;49m\u001b[38;5;241;43m.\u001b[39;49m\u001b[43merror_handler\u001b[49m\u001b[38;5;241;43m.\u001b[39;49m\u001b[43mcheck_response\u001b[49m\u001b[43m(\u001b[49m\u001b[43mresponse\u001b[49m\u001b[43m)\u001b[49m\n\u001b[0;32m    430\u001b[0m     response[\u001b[38;5;124m\"\u001b[39m\u001b[38;5;124mvalue\u001b[39m\u001b[38;5;124m\"\u001b[39m] \u001b[38;5;241m=\u001b[39m \u001b[38;5;28mself\u001b[39m\u001b[38;5;241m.\u001b[39m_unwrap_value(response\u001b[38;5;241m.\u001b[39mget(\u001b[38;5;124m\"\u001b[39m\u001b[38;5;124mvalue\u001b[39m\u001b[38;5;124m\"\u001b[39m, \u001b[38;5;28;01mNone\u001b[39;00m))\n\u001b[0;32m    431\u001b[0m     \u001b[38;5;28;01mreturn\u001b[39;00m response\n",
      "File \u001b[1;32mc:\\Users\\belie\\test\\.env\\Lib\\site-packages\\selenium\\webdriver\\remote\\errorhandler.py:232\u001b[0m, in \u001b[0;36mErrorHandler.check_response\u001b[1;34m(self, response)\u001b[0m\n\u001b[0;32m    230\u001b[0m         alert_text \u001b[38;5;241m=\u001b[39m value[\u001b[38;5;124m\"\u001b[39m\u001b[38;5;124malert\u001b[39m\u001b[38;5;124m\"\u001b[39m]\u001b[38;5;241m.\u001b[39mget(\u001b[38;5;124m\"\u001b[39m\u001b[38;5;124mtext\u001b[39m\u001b[38;5;124m\"\u001b[39m)\n\u001b[0;32m    231\u001b[0m     \u001b[38;5;28;01mraise\u001b[39;00m exception_class(message, screen, stacktrace, alert_text)  \u001b[38;5;66;03m# type: ignore[call-arg]  # mypy is not smart enough here\u001b[39;00m\n\u001b[1;32m--> 232\u001b[0m \u001b[38;5;28;01mraise\u001b[39;00m exception_class(message, screen, stacktrace)\n",
      "\u001b[1;31mNoSuchElementException\u001b[0m: Message: no such element: Unable to locate element: {\"method\":\"xpath\",\"selector\":\"//td[contains(., '2025')]//preceding-sibling::td//span[@class='general-chevron-handler gp-chevron rl-90']\"}\n  (Session info: chrome=132.0.6834.160); For documentation on this error, please visit: https://www.selenium.dev/documentation/webdriver/troubleshooting/errors#no-such-element-exception\nStacktrace:\n\tGetHandleVerifier [0x00007FF7331A02F5+28725]\n\t(No symbol) [0x00007FF733102AE0]\n\t(No symbol) [0x00007FF732F9510A]\n\t(No symbol) [0x00007FF732FE93D2]\n\t(No symbol) [0x00007FF732FE95FC]\n\t(No symbol) [0x00007FF733033407]\n\t(No symbol) [0x00007FF73300FFEF]\n\t(No symbol) [0x00007FF733030181]\n\t(No symbol) [0x00007FF73300FD53]\n\t(No symbol) [0x00007FF732FDA0E3]\n\t(No symbol) [0x00007FF732FDB471]\n\tGetHandleVerifier [0x00007FF7334CF30D+3366989]\n\tGetHandleVerifier [0x00007FF7334E12F0+3440688]\n\tGetHandleVerifier [0x00007FF7334D78FD+3401277]\n\tGetHandleVerifier [0x00007FF73326AAAB+858091]\n\t(No symbol) [0x00007FF73310E74F]\n\t(No symbol) [0x00007FF73310A304]\n\t(No symbol) [0x00007FF73310A49D]\n\t(No symbol) [0x00007FF7330F8B69]\n\tBaseThreadInitThunk [0x00007FFE969C259D+29]\n\tRtlUserThreadStart [0x00007FFE988CAF38+40]\n"
     ]
    }
   ],
   "source": [
    "driver.find_element(By.XPATH, \"//td[contains(., '01.01.2025 - 31.12.2025')]//preceding-sibling::td//span[@class='general-chevron-handler gp-chevron rl-90']\").click()\n"
   ]
  },
  {
   "cell_type": "code",
   "execution_count": 128,
   "metadata": {},
   "outputs": [
    {
     "ename": "NoSuchElementException",
     "evalue": "Message: no such element: Unable to locate element: {\"method\":\"xpath\",\"selector\":\"//td[contains(text(), '01.01.2025 - 31.12.2025')]\"}\n  (Session info: chrome=132.0.6834.160); For documentation on this error, please visit: https://www.selenium.dev/documentation/webdriver/troubleshooting/errors#no-such-element-exception\nStacktrace:\n\tGetHandleVerifier [0x00007FF7331A02F5+28725]\n\t(No symbol) [0x00007FF733102AE0]\n\t(No symbol) [0x00007FF732F9510A]\n\t(No symbol) [0x00007FF732FE93D2]\n\t(No symbol) [0x00007FF732FE95FC]\n\t(No symbol) [0x00007FF733033407]\n\t(No symbol) [0x00007FF73300FFEF]\n\t(No symbol) [0x00007FF733030181]\n\t(No symbol) [0x00007FF73300FD53]\n\t(No symbol) [0x00007FF732FDA0E3]\n\t(No symbol) [0x00007FF732FDB471]\n\tGetHandleVerifier [0x00007FF7334CF30D+3366989]\n\tGetHandleVerifier [0x00007FF7334E12F0+3440688]\n\tGetHandleVerifier [0x00007FF7334D78FD+3401277]\n\tGetHandleVerifier [0x00007FF73326AAAB+858091]\n\t(No symbol) [0x00007FF73310E74F]\n\t(No symbol) [0x00007FF73310A304]\n\t(No symbol) [0x00007FF73310A49D]\n\t(No symbol) [0x00007FF7330F8B69]\n\tBaseThreadInitThunk [0x00007FFE969C259D+29]\n\tRtlUserThreadStart [0x00007FFE988CAF38+40]\n",
     "output_type": "error",
     "traceback": [
      "\u001b[1;31m---------------------------------------------------------------------------\u001b[0m",
      "\u001b[1;31mNoSuchElementException\u001b[0m                    Traceback (most recent call last)",
      "Cell \u001b[1;32mIn[128], line 1\u001b[0m\n\u001b[1;32m----> 1\u001b[0m \u001b[43mdriver\u001b[49m\u001b[38;5;241;43m.\u001b[39;49m\u001b[43mfind_element\u001b[49m\u001b[43m(\u001b[49m\u001b[43mBy\u001b[49m\u001b[38;5;241;43m.\u001b[39;49m\u001b[43mXPATH\u001b[49m\u001b[43m,\u001b[49m\u001b[43m \u001b[49m\u001b[38;5;124;43m\"\u001b[39;49m\u001b[38;5;124;43m//td[contains(text(), \u001b[39;49m\u001b[38;5;124;43m'\u001b[39;49m\u001b[38;5;124;43m01.01.2025 - 31.12.2025\u001b[39;49m\u001b[38;5;124;43m'\u001b[39;49m\u001b[38;5;124;43m)]\u001b[39;49m\u001b[38;5;124;43m\"\u001b[39;49m\u001b[43m)\u001b[49m\n",
      "File \u001b[1;32mc:\\Users\\belie\\test\\.env\\Lib\\site-packages\\selenium\\webdriver\\remote\\webdriver.py:888\u001b[0m, in \u001b[0;36mWebDriver.find_element\u001b[1;34m(self, by, value)\u001b[0m\n\u001b[0;32m    885\u001b[0m         \u001b[38;5;28;01mraise\u001b[39;00m NoSuchElementException(\u001b[38;5;124mf\u001b[39m\u001b[38;5;124m\"\u001b[39m\u001b[38;5;124mCannot locate relative element with: \u001b[39m\u001b[38;5;132;01m{\u001b[39;00mby\u001b[38;5;241m.\u001b[39mroot\u001b[38;5;132;01m}\u001b[39;00m\u001b[38;5;124m\"\u001b[39m)\n\u001b[0;32m    886\u001b[0m     \u001b[38;5;28;01mreturn\u001b[39;00m elements[\u001b[38;5;241m0\u001b[39m]\n\u001b[1;32m--> 888\u001b[0m \u001b[38;5;28;01mreturn\u001b[39;00m \u001b[38;5;28;43mself\u001b[39;49m\u001b[38;5;241;43m.\u001b[39;49m\u001b[43mexecute\u001b[49m\u001b[43m(\u001b[49m\u001b[43mCommand\u001b[49m\u001b[38;5;241;43m.\u001b[39;49m\u001b[43mFIND_ELEMENT\u001b[49m\u001b[43m,\u001b[49m\u001b[43m \u001b[49m\u001b[43m{\u001b[49m\u001b[38;5;124;43m\"\u001b[39;49m\u001b[38;5;124;43musing\u001b[39;49m\u001b[38;5;124;43m\"\u001b[39;49m\u001b[43m:\u001b[49m\u001b[43m \u001b[49m\u001b[43mby\u001b[49m\u001b[43m,\u001b[49m\u001b[43m \u001b[49m\u001b[38;5;124;43m\"\u001b[39;49m\u001b[38;5;124;43mvalue\u001b[39;49m\u001b[38;5;124;43m\"\u001b[39;49m\u001b[43m:\u001b[49m\u001b[43m \u001b[49m\u001b[43mvalue\u001b[49m\u001b[43m}\u001b[49m\u001b[43m)\u001b[49m[\u001b[38;5;124m\"\u001b[39m\u001b[38;5;124mvalue\u001b[39m\u001b[38;5;124m\"\u001b[39m]\n",
      "File \u001b[1;32mc:\\Users\\belie\\test\\.env\\Lib\\site-packages\\selenium\\webdriver\\remote\\webdriver.py:429\u001b[0m, in \u001b[0;36mWebDriver.execute\u001b[1;34m(self, driver_command, params)\u001b[0m\n\u001b[0;32m    427\u001b[0m response \u001b[38;5;241m=\u001b[39m \u001b[38;5;28mself\u001b[39m\u001b[38;5;241m.\u001b[39mcommand_executor\u001b[38;5;241m.\u001b[39mexecute(driver_command, params)\n\u001b[0;32m    428\u001b[0m \u001b[38;5;28;01mif\u001b[39;00m response:\n\u001b[1;32m--> 429\u001b[0m     \u001b[38;5;28;43mself\u001b[39;49m\u001b[38;5;241;43m.\u001b[39;49m\u001b[43merror_handler\u001b[49m\u001b[38;5;241;43m.\u001b[39;49m\u001b[43mcheck_response\u001b[49m\u001b[43m(\u001b[49m\u001b[43mresponse\u001b[49m\u001b[43m)\u001b[49m\n\u001b[0;32m    430\u001b[0m     response[\u001b[38;5;124m\"\u001b[39m\u001b[38;5;124mvalue\u001b[39m\u001b[38;5;124m\"\u001b[39m] \u001b[38;5;241m=\u001b[39m \u001b[38;5;28mself\u001b[39m\u001b[38;5;241m.\u001b[39m_unwrap_value(response\u001b[38;5;241m.\u001b[39mget(\u001b[38;5;124m\"\u001b[39m\u001b[38;5;124mvalue\u001b[39m\u001b[38;5;124m\"\u001b[39m, \u001b[38;5;28;01mNone\u001b[39;00m))\n\u001b[0;32m    431\u001b[0m     \u001b[38;5;28;01mreturn\u001b[39;00m response\n",
      "File \u001b[1;32mc:\\Users\\belie\\test\\.env\\Lib\\site-packages\\selenium\\webdriver\\remote\\errorhandler.py:232\u001b[0m, in \u001b[0;36mErrorHandler.check_response\u001b[1;34m(self, response)\u001b[0m\n\u001b[0;32m    230\u001b[0m         alert_text \u001b[38;5;241m=\u001b[39m value[\u001b[38;5;124m\"\u001b[39m\u001b[38;5;124malert\u001b[39m\u001b[38;5;124m\"\u001b[39m]\u001b[38;5;241m.\u001b[39mget(\u001b[38;5;124m\"\u001b[39m\u001b[38;5;124mtext\u001b[39m\u001b[38;5;124m\"\u001b[39m)\n\u001b[0;32m    231\u001b[0m     \u001b[38;5;28;01mraise\u001b[39;00m exception_class(message, screen, stacktrace, alert_text)  \u001b[38;5;66;03m# type: ignore[call-arg]  # mypy is not smart enough here\u001b[39;00m\n\u001b[1;32m--> 232\u001b[0m \u001b[38;5;28;01mraise\u001b[39;00m exception_class(message, screen, stacktrace)\n",
      "\u001b[1;31mNoSuchElementException\u001b[0m: Message: no such element: Unable to locate element: {\"method\":\"xpath\",\"selector\":\"//td[contains(text(), '01.01.2025 - 31.12.2025')]\"}\n  (Session info: chrome=132.0.6834.160); For documentation on this error, please visit: https://www.selenium.dev/documentation/webdriver/troubleshooting/errors#no-such-element-exception\nStacktrace:\n\tGetHandleVerifier [0x00007FF7331A02F5+28725]\n\t(No symbol) [0x00007FF733102AE0]\n\t(No symbol) [0x00007FF732F9510A]\n\t(No symbol) [0x00007FF732FE93D2]\n\t(No symbol) [0x00007FF732FE95FC]\n\t(No symbol) [0x00007FF733033407]\n\t(No symbol) [0x00007FF73300FFEF]\n\t(No symbol) [0x00007FF733030181]\n\t(No symbol) [0x00007FF73300FD53]\n\t(No symbol) [0x00007FF732FDA0E3]\n\t(No symbol) [0x00007FF732FDB471]\n\tGetHandleVerifier [0x00007FF7334CF30D+3366989]\n\tGetHandleVerifier [0x00007FF7334E12F0+3440688]\n\tGetHandleVerifier [0x00007FF7334D78FD+3401277]\n\tGetHandleVerifier [0x00007FF73326AAAB+858091]\n\t(No symbol) [0x00007FF73310E74F]\n\t(No symbol) [0x00007FF73310A304]\n\t(No symbol) [0x00007FF73310A49D]\n\t(No symbol) [0x00007FF7330F8B69]\n\tBaseThreadInitThunk [0x00007FFE969C259D+29]\n\tRtlUserThreadStart [0x00007FFE988CAF38+40]\n"
     ]
    }
   ],
   "source": [
    "driver.find_element(By.XPATH, \"//td[contains(text(), '01.01.2025 - 31.12.2025')]\")\n"
   ]
  },
  {
   "cell_type": "code",
   "execution_count": 127,
   "metadata": {},
   "outputs": [
    {
     "ename": "NoSuchElementException",
     "evalue": "Message: no such element: Unable to locate element: {\"method\":\"xpath\",\"selector\":\"//td[contains(text(), '01.01.2025 - 31.12.2025')]//following-sibling::td//span[@class='general-chevron-handler' and contains(@data-content-id, 'contract-execution-chevron-by-contract-info-term')]\"}\n  (Session info: chrome=132.0.6834.160); For documentation on this error, please visit: https://www.selenium.dev/documentation/webdriver/troubleshooting/errors#no-such-element-exception\nStacktrace:\n\tGetHandleVerifier [0x00007FF7331A02F5+28725]\n\t(No symbol) [0x00007FF733102AE0]\n\t(No symbol) [0x00007FF732F9510A]\n\t(No symbol) [0x00007FF732FE93D2]\n\t(No symbol) [0x00007FF732FE95FC]\n\t(No symbol) [0x00007FF733033407]\n\t(No symbol) [0x00007FF73300FFEF]\n\t(No symbol) [0x00007FF733030181]\n\t(No symbol) [0x00007FF73300FD53]\n\t(No symbol) [0x00007FF732FDA0E3]\n\t(No symbol) [0x00007FF732FDB471]\n\tGetHandleVerifier [0x00007FF7334CF30D+3366989]\n\tGetHandleVerifier [0x00007FF7334E12F0+3440688]\n\tGetHandleVerifier [0x00007FF7334D78FD+3401277]\n\tGetHandleVerifier [0x00007FF73326AAAB+858091]\n\t(No symbol) [0x00007FF73310E74F]\n\t(No symbol) [0x00007FF73310A304]\n\t(No symbol) [0x00007FF73310A49D]\n\t(No symbol) [0x00007FF7330F8B69]\n\tBaseThreadInitThunk [0x00007FFE969C259D+29]\n\tRtlUserThreadStart [0x00007FFE988CAF38+40]\n",
     "output_type": "error",
     "traceback": [
      "\u001b[1;31m---------------------------------------------------------------------------\u001b[0m",
      "\u001b[1;31mNoSuchElementException\u001b[0m                    Traceback (most recent call last)",
      "Cell \u001b[1;32mIn[127], line 1\u001b[0m\n\u001b[1;32m----> 1\u001b[0m \u001b[43mdriver\u001b[49m\u001b[38;5;241;43m.\u001b[39;49m\u001b[43mfind_element\u001b[49m\u001b[43m(\u001b[49m\u001b[43mBy\u001b[49m\u001b[38;5;241;43m.\u001b[39;49m\u001b[43mXPATH\u001b[49m\u001b[43m,\u001b[49m\u001b[43m \u001b[49m\u001b[38;5;124;43m\"\u001b[39;49m\u001b[38;5;124;43m//td[contains(text(), \u001b[39;49m\u001b[38;5;124;43m'\u001b[39;49m\u001b[38;5;124;43m01.01.2025 - 31.12.2025\u001b[39;49m\u001b[38;5;124;43m'\u001b[39;49m\u001b[38;5;124;43m)]//following-sibling::td//span[@class=\u001b[39;49m\u001b[38;5;124;43m'\u001b[39;49m\u001b[38;5;124;43mgeneral-chevron-handler\u001b[39;49m\u001b[38;5;124;43m'\u001b[39;49m\u001b[38;5;124;43m and contains(@data-content-id, \u001b[39;49m\u001b[38;5;124;43m'\u001b[39;49m\u001b[38;5;124;43mcontract-execution-chevron-by-contract-info-term\u001b[39;49m\u001b[38;5;124;43m'\u001b[39;49m\u001b[38;5;124;43m)]\u001b[39;49m\u001b[38;5;124;43m\"\u001b[39;49m\u001b[43m)\u001b[49m\u001b[38;5;241m.\u001b[39mclick()\n",
      "File \u001b[1;32mc:\\Users\\belie\\test\\.env\\Lib\\site-packages\\selenium\\webdriver\\remote\\webdriver.py:888\u001b[0m, in \u001b[0;36mWebDriver.find_element\u001b[1;34m(self, by, value)\u001b[0m\n\u001b[0;32m    885\u001b[0m         \u001b[38;5;28;01mraise\u001b[39;00m NoSuchElementException(\u001b[38;5;124mf\u001b[39m\u001b[38;5;124m\"\u001b[39m\u001b[38;5;124mCannot locate relative element with: \u001b[39m\u001b[38;5;132;01m{\u001b[39;00mby\u001b[38;5;241m.\u001b[39mroot\u001b[38;5;132;01m}\u001b[39;00m\u001b[38;5;124m\"\u001b[39m)\n\u001b[0;32m    886\u001b[0m     \u001b[38;5;28;01mreturn\u001b[39;00m elements[\u001b[38;5;241m0\u001b[39m]\n\u001b[1;32m--> 888\u001b[0m \u001b[38;5;28;01mreturn\u001b[39;00m \u001b[38;5;28;43mself\u001b[39;49m\u001b[38;5;241;43m.\u001b[39;49m\u001b[43mexecute\u001b[49m\u001b[43m(\u001b[49m\u001b[43mCommand\u001b[49m\u001b[38;5;241;43m.\u001b[39;49m\u001b[43mFIND_ELEMENT\u001b[49m\u001b[43m,\u001b[49m\u001b[43m \u001b[49m\u001b[43m{\u001b[49m\u001b[38;5;124;43m\"\u001b[39;49m\u001b[38;5;124;43musing\u001b[39;49m\u001b[38;5;124;43m\"\u001b[39;49m\u001b[43m:\u001b[49m\u001b[43m \u001b[49m\u001b[43mby\u001b[49m\u001b[43m,\u001b[49m\u001b[43m \u001b[49m\u001b[38;5;124;43m\"\u001b[39;49m\u001b[38;5;124;43mvalue\u001b[39;49m\u001b[38;5;124;43m\"\u001b[39;49m\u001b[43m:\u001b[49m\u001b[43m \u001b[49m\u001b[43mvalue\u001b[49m\u001b[43m}\u001b[49m\u001b[43m)\u001b[49m[\u001b[38;5;124m\"\u001b[39m\u001b[38;5;124mvalue\u001b[39m\u001b[38;5;124m\"\u001b[39m]\n",
      "File \u001b[1;32mc:\\Users\\belie\\test\\.env\\Lib\\site-packages\\selenium\\webdriver\\remote\\webdriver.py:429\u001b[0m, in \u001b[0;36mWebDriver.execute\u001b[1;34m(self, driver_command, params)\u001b[0m\n\u001b[0;32m    427\u001b[0m response \u001b[38;5;241m=\u001b[39m \u001b[38;5;28mself\u001b[39m\u001b[38;5;241m.\u001b[39mcommand_executor\u001b[38;5;241m.\u001b[39mexecute(driver_command, params)\n\u001b[0;32m    428\u001b[0m \u001b[38;5;28;01mif\u001b[39;00m response:\n\u001b[1;32m--> 429\u001b[0m     \u001b[38;5;28;43mself\u001b[39;49m\u001b[38;5;241;43m.\u001b[39;49m\u001b[43merror_handler\u001b[49m\u001b[38;5;241;43m.\u001b[39;49m\u001b[43mcheck_response\u001b[49m\u001b[43m(\u001b[49m\u001b[43mresponse\u001b[49m\u001b[43m)\u001b[49m\n\u001b[0;32m    430\u001b[0m     response[\u001b[38;5;124m\"\u001b[39m\u001b[38;5;124mvalue\u001b[39m\u001b[38;5;124m\"\u001b[39m] \u001b[38;5;241m=\u001b[39m \u001b[38;5;28mself\u001b[39m\u001b[38;5;241m.\u001b[39m_unwrap_value(response\u001b[38;5;241m.\u001b[39mget(\u001b[38;5;124m\"\u001b[39m\u001b[38;5;124mvalue\u001b[39m\u001b[38;5;124m\"\u001b[39m, \u001b[38;5;28;01mNone\u001b[39;00m))\n\u001b[0;32m    431\u001b[0m     \u001b[38;5;28;01mreturn\u001b[39;00m response\n",
      "File \u001b[1;32mc:\\Users\\belie\\test\\.env\\Lib\\site-packages\\selenium\\webdriver\\remote\\errorhandler.py:232\u001b[0m, in \u001b[0;36mErrorHandler.check_response\u001b[1;34m(self, response)\u001b[0m\n\u001b[0;32m    230\u001b[0m         alert_text \u001b[38;5;241m=\u001b[39m value[\u001b[38;5;124m\"\u001b[39m\u001b[38;5;124malert\u001b[39m\u001b[38;5;124m\"\u001b[39m]\u001b[38;5;241m.\u001b[39mget(\u001b[38;5;124m\"\u001b[39m\u001b[38;5;124mtext\u001b[39m\u001b[38;5;124m\"\u001b[39m)\n\u001b[0;32m    231\u001b[0m     \u001b[38;5;28;01mraise\u001b[39;00m exception_class(message, screen, stacktrace, alert_text)  \u001b[38;5;66;03m# type: ignore[call-arg]  # mypy is not smart enough here\u001b[39;00m\n\u001b[1;32m--> 232\u001b[0m \u001b[38;5;28;01mraise\u001b[39;00m exception_class(message, screen, stacktrace)\n",
      "\u001b[1;31mNoSuchElementException\u001b[0m: Message: no such element: Unable to locate element: {\"method\":\"xpath\",\"selector\":\"//td[contains(text(), '01.01.2025 - 31.12.2025')]//following-sibling::td//span[@class='general-chevron-handler' and contains(@data-content-id, 'contract-execution-chevron-by-contract-info-term')]\"}\n  (Session info: chrome=132.0.6834.160); For documentation on this error, please visit: https://www.selenium.dev/documentation/webdriver/troubleshooting/errors#no-such-element-exception\nStacktrace:\n\tGetHandleVerifier [0x00007FF7331A02F5+28725]\n\t(No symbol) [0x00007FF733102AE0]\n\t(No symbol) [0x00007FF732F9510A]\n\t(No symbol) [0x00007FF732FE93D2]\n\t(No symbol) [0x00007FF732FE95FC]\n\t(No symbol) [0x00007FF733033407]\n\t(No symbol) [0x00007FF73300FFEF]\n\t(No symbol) [0x00007FF733030181]\n\t(No symbol) [0x00007FF73300FD53]\n\t(No symbol) [0x00007FF732FDA0E3]\n\t(No symbol) [0x00007FF732FDB471]\n\tGetHandleVerifier [0x00007FF7334CF30D+3366989]\n\tGetHandleVerifier [0x00007FF7334E12F0+3440688]\n\tGetHandleVerifier [0x00007FF7334D78FD+3401277]\n\tGetHandleVerifier [0x00007FF73326AAAB+858091]\n\t(No symbol) [0x00007FF73310E74F]\n\t(No symbol) [0x00007FF73310A304]\n\t(No symbol) [0x00007FF73310A49D]\n\t(No symbol) [0x00007FF7330F8B69]\n\tBaseThreadInitThunk [0x00007FFE969C259D+29]\n\tRtlUserThreadStart [0x00007FFE988CAF38+40]\n"
     ]
    }
   ],
   "source": [
    "driver.find_element(By.XPATH, \"//td[contains(text(), '01.01.2025 - 31.12.2025')]//following-sibling::td//span[@class='general-chevron-handler' and contains(@data-content-id, 'contract-execution-chevron-by-contract-info-term')]\").click()\n"
   ]
  },
  {
   "cell_type": "code",
   "execution_count": 75,
   "metadata": {},
   "outputs": [],
   "source": [
    "driver.find_element(By.XPATH, \"//div[@class='tabsNav d-flex align-items-end']\").find_element(By.XPATH, \"//a[contains(@href, 'process-info')]\").click() #нужная вкладка"
   ]
  },
  {
   "cell_type": "code",
   "execution_count": 126,
   "metadata": {},
   "outputs": [],
   "source": [
    "driver.find_element(By.XPATH, \"//div[@id='contractExecution']\").find_element(By.XPATH, \"//span[@class='general-chevron-handler rl-90 gp-chevron' and contains(@data-content-id, 'contract-execution-chevron-by-contract-info-term')]\").click() #раскрыть список"
   ]
  },
  {
   "cell_type": "code",
   "execution_count": 77,
   "metadata": {},
   "outputs": [],
   "source": [
    "test = driver.find_element(By.XPATH, \"//div[@class='d-flex justify-content-between']\").find_element(By.XPATH, \"//a[@class='paginator-button paginator-button-next cursorPointer general-pagination-page-select-handler']\").click() #стрелочка"
   ]
  },
  {
   "cell_type": "code",
   "execution_count": 110,
   "metadata": {},
   "outputs": [
    {
     "name": "stdout",
     "output_type": "stream",
     "text": [
      "Requirement already satisfied: lxml in c:\\users\\belie\\test\\.env\\lib\\site-packages (5.3.0)\n"
     ]
    },
    {
     "name": "stderr",
     "output_type": "stream",
     "text": [
      "\n",
      "[notice] A new release of pip is available: 23.2.1 -> 25.0\n",
      "[notice] To update, run: python.exe -m pip install --upgrade pip\n"
     ]
    }
   ],
   "source": [
    "!pip install lxml"
   ]
  },
  {
   "cell_type": "code",
   "execution_count": null,
   "metadata": {},
   "outputs": [
    {
     "name": "stdout",
     "output_type": "stream",
     "text": [
      "False\n",
      "False\n",
      "True\n"
     ]
    }
   ],
   "source": [
    "url = 'https://zakupki.gov.ru/epz/contract/contractCard/common-info.html?reestrNumber=2781615830924000002'\n",
    "id = '602162762'\n",
    "\n",
    "from bs4 import BeautifulSoup\n",
    "import time\n",
    "from lxml import html\n",
    "from selenium.common.exceptions import NoSuchElementException\n",
    "arrow = True\n",
    "# chrome_options = Options()\n",
    "# chrome_options.add_argument(\"--disable-extensions\")\n",
    "# chrome_options.add_argument(\"--disable-gpu\")\n",
    "# chrome_options.add_argument(\"--no-sandbox\") # linux only\n",
    "# chrome_options.add_argument(\"--headless=new\") # for Chrome >= 109\n",
    "# chrome_options.add_argument(\"--headless\")\n",
    "# chrome_options.headless = True # also works\n",
    "driver = webdriver.Chrome() #(options=chrome_options)\n",
    "wait = WebDriverWait(driver, 10)\n",
    "# url = input()\n",
    "# id = input()\n",
    "driver.get(url)\n",
    "#закрыть всплывающее окно\n",
    "driver.find_element(By.XPATH, \"//div[@id='sslCertificateChecker-right']\").find_element(By.XPATH, \"//span[@class='btn-close closePopUp']\").click()\n",
    "#перейти на вкладку \"Исполнение и расторжение\"\n",
    "wait.until(EC.visibility_of_element_located((By.XPATH, \"//div[@class='tabsNav d-flex align-items-end']\")))\n",
    "driver.find_element(By.XPATH, \"//div[@class='tabsNav d-flex align-items-end']\").find_element(By.XPATH, \"//a[contains(@href, 'process-info')]\").click()\n",
    "#раскрыть список\n",
    "#driver.find_element(By.XPATH, \"//div[@class='tabsNav d-flex align-items-end']\").find_element(By.XPATH, \"//a[contains(@href, 'process-info')]\").click()\n",
    "wait.until(EC.visibility_of_element_located((By.XPATH, \"//div[@id='contractExecution']\")))\n",
    "#driver.find_element(By.XPATH, \"//div[@id='contractExecution']\").find_element(By.XPATH, \"//span[@class='general-chevron-handler rl-90 gp-chevron']\").click()\n",
    "driver.find_element(By.XPATH, \"//td[.//div[contains(text(), '2025')]]//preceding-sibling::td//span[contains(@class, 'general-chevron-handler')]\").click()\n",
    "\n",
    "while arrow:\n",
    "    try:\n",
    "        # time.sleep(5)\n",
    "        wait.until(EC.visibility_of_element_located((By.XPATH, \"//table[@class='blockInfo__table tableBlock grayBorderBottom']\")))\n",
    "        # time.sleep(5)\n",
    "        e = html.fromstring(driver.page_source)\n",
    "        # e.xpath\n",
    "        e = BeautifulSoup(driver.page_source)\n",
    "        _e = e.find('table', {\"class\": \"blockInfo__table tableBlock grayBorderBottom\"}) # .find_all(\"span\", {\"class\": \"tableBlock__col tableBlock__col_first\"})\n",
    "        # _e.\n",
    "        if id in _e.text:\n",
    "            arrow = False\n",
    "        else:\n",
    "            driver.find_element(By.XPATH, \"//div[@class='d-flex justify-content-between']\").find_element(By.XPATH, \"//a[@class='paginator-button paginator-button-next cursorPointer general-pagination-page-select-handler']\").click()\n",
    "        print(id in _e.text)\n",
    "        # e = driver.find_element(By.XPATH, \"//table[@class='blockInfo__table tableBlock grayBorderBottom']\").\n",
    "        \n",
    "        # .find_element(By.XPATH, f\"//span[contains(text(), '{id}')]\").text\n",
    "        # arrow = False\n",
    "        # print (f'Элемент {e} найден')\n",
    "    except Exception as e: # NoSuchElementException:\n",
    "        # print(driver.page_source)\n",
    "        pass\n",
    "    \n"
   ]
  },
  {
   "cell_type": "code",
   "execution_count": 94,
   "metadata": {},
   "outputs": [
    {
     "data": {
      "text/plain": [
       "'Идентификатор: 583582039'"
      ]
     },
     "execution_count": 94,
     "metadata": {},
     "output_type": "execute_result"
    }
   ],
   "source": [
    "driver.find_element(By.XPATH,\n",
    "            \"//div[@class='blockInfo__section']\"\n",
    ").find_element(By.XPATH, f\"//span[contains(text(), '{id}')]\").text"
   ]
  },
  {
   "cell_type": "code",
   "execution_count": 140,
   "metadata": {},
   "outputs": [
    {
     "name": "stdout",
     "output_type": "stream",
     "text": [
      "Элемент 661444259 найден\n"
     ]
    }
   ],
   "source": [
    "find_rnk(2780401015323000022, '661444259')"
   ]
  },
  {
   "cell_type": "code",
   "execution_count": 138,
   "metadata": {},
   "outputs": [],
   "source": [
    "def find_rnk(rnk, id):\n",
    "    url = f'https://zakupki.gov.ru/epz/contract/contractCard/common-info.html?reestrNumber={rnk}'\n",
    "    arrow = True\n",
    "    chrome_options = Options()\n",
    "    chrome_options.add_argument(\"--disable-extensions\")\n",
    "    chrome_options.add_argument(\"--disable-gpu\")\n",
    "    chrome_options.add_argument(\"--no-sandbox\") # linux only\n",
    "    chrome_options.add_argument(\"--headless=new\") # for Chrome >= 109\n",
    "    chrome_options.add_argument(\"--headless\")\n",
    "    chrome_options.headless = True # also works\n",
    "    driver = webdriver.Chrome(options=chrome_options)\n",
    "    wait = WebDriverWait(driver, 10)\n",
    "    driver.get(url)\n",
    "    time.sleep(2)\n",
    "    driver.find_element(By.XPATH, \"//div[@id='sslCertificateChecker-right']\").find_element(By.XPATH, \"//span[@class='btn-close closePopUp']\").click()\n",
    "    wait.until(EC.visibility_of_element_located((By.XPATH, \"//div[@class='tabsNav d-flex align-items-end']\")))\n",
    "    driver.find_element(By.XPATH, \"//div[@class='tabsNav d-flex align-items-end']\").find_element(By.XPATH, \"//a[contains(@href, 'process-info')]\").click()\n",
    "    wait.until(EC.visibility_of_element_located((By.XPATH, \"//div[@id='contractExecution']\")))\n",
    "    #driver.find_element(By.XPATH, \"//div[@id='contractExecution']\").find_element(By.XPATH, \"//span[@class='general-chevron-handler rl-90 gp-chevron']\").click()\n",
    "    driver.find_element(By.XPATH, \"//td[.//div[contains(text(), '2025')]]//preceding-sibling::td//span[contains(@class, 'general-chevron-handler')]\").click()\n",
    "    while arrow:\n",
    "        try:\n",
    "            time.sleep(1)\n",
    "            wait.until(EC.visibility_of_element_located((By.XPATH, \"//table[@class='blockInfo__table tableBlock grayBorderBottom']\")))\n",
    "            _e = BeautifulSoup(driver.page_source, \"html.parser\").find('table', {\"class\": \"blockInfo__table tableBlock grayBorderBottom\"})\n",
    "            l = [x for x in _e.find_all(\"td\", {\"class\": \"tableBlock__col tableBlock__col_first\"}) if id in x.text]\n",
    "            if l:\n",
    "                arrow = False\n",
    "                for td in l:\n",
    "                    span = td.find('span', class_=\"section__title\")\n",
    "                    idf = []\n",
    "                    if span:\n",
    "                        id_text = span.text.strip()\n",
    "                        id_num = id_text.split(':')[-1].strip()\n",
    "                        idf.append(id_num)\n",
    "                    return print(f'Элемент {''.join(idf)} найден')\n",
    "            else:\n",
    "                try:\n",
    "                    t = driver.find_element(By.XPATH, \"//div[@class='d-flex justify-content-between']\").find_element(By.XPATH, \"//a[@class='paginator-button paginator-button-next cursorPointer general-pagination-page-select-handler']\")\n",
    "                    t.click()\n",
    "                except Exception: \n",
    "                    break\n",
    "        except Exception as e: # NoSuchElementException:\n",
    "            # print(driver.page_source)\n",
    "            pass\n",
    "    if not l: \n",
    "        return print(f'Элемент {id} не найден')"
   ]
  },
  {
   "cell_type": "code",
   "execution_count": null,
   "metadata": {},
   "outputs": [],
   "source": []
  },
  {
   "cell_type": "code",
   "execution_count": 66,
   "metadata": {},
   "outputs": [
    {
     "data": {
      "text/plain": [
       "'Идентификатор: 602162762'"
      ]
     },
     "execution_count": 66,
     "metadata": {},
     "output_type": "execute_result"
    }
   ],
   "source": [
    "driver.find_element(By.XPATH, \"//div[@class='blockInfo__section']\").find_element(By.XPATH, \"//span[contains(text(), '602162762')]\").text"
   ]
  }
 ],
 "metadata": {
  "kernelspec": {
   "display_name": ".env",
   "language": "python",
   "name": "python3"
  },
  "language_info": {
   "codemirror_mode": {
    "name": "ipython",
    "version": 3
   },
   "file_extension": ".py",
   "mimetype": "text/x-python",
   "name": "python",
   "nbconvert_exporter": "python",
   "pygments_lexer": "ipython3",
   "version": "3.12.1"
  }
 },
 "nbformat": 4,
 "nbformat_minor": 2
}
