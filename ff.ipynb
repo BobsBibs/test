{
 "cells": [
  {
   "cell_type": "code",
   "execution_count": 2,
   "metadata": {},
   "outputs": [],
   "source": [
    "from selenium.webdriver import chrome"
   ]
  },
  {
   "cell_type": "code",
   "execution_count": 3,
   "metadata": {},
   "outputs": [],
   "source": [
    "from selenium import webdriver\n",
    "from selenium.webdriver.chrome.options import Options\n",
    "from selenium.webdriver.support.ui import WebDriverWait\n",
    "from selenium.webdriver.support import expected_conditions as EC\n",
    "from selenium.webdriver.common.by import By"
   ]
  },
  {
   "cell_type": "code",
   "execution_count": null,
   "metadata": {},
   "outputs": [],
   "source": [
    "chrome_options = Options()\n",
    "# chrome_options.add_argument(\"--disable-extensions\")\n",
    "# chrome_options.add_argument(\"--disable-gpu\")\n",
    "# chrome_options.add_argument(\"--no-sandbox\") # linux only\n",
    "chrome_options.add_argument(\"--headless=new\") # for Chrome >= 109\n",
    "# chrome_options.add_argument(\"--headless\")\n",
    "# chrome_options.headless = True # also works\n",
    "driver = webdriver.Chrome(options=chrome_options)"
   ]
  },
  {
   "cell_type": "code",
   "execution_count": 72,
   "metadata": {},
   "outputs": [],
   "source": [
    "driver = webdriver.Chrome()"
   ]
  },
  {
   "cell_type": "code",
   "execution_count": 49,
   "metadata": {},
   "outputs": [],
   "source": [
    "url = input()"
   ]
  },
  {
   "cell_type": "code",
   "execution_count": 50,
   "metadata": {},
   "outputs": [
    {
     "data": {
      "text/plain": [
       "'444'"
      ]
     },
     "execution_count": 50,
     "metadata": {},
     "output_type": "execute_result"
    }
   ],
   "source": [
    "url"
   ]
  },
  {
   "cell_type": "code",
   "execution_count": 73,
   "metadata": {},
   "outputs": [],
   "source": [
    "driver.get('https://zakupki.gov.ru/epz/contract/contractCard/common-info.html?reestrNumber=2781615830924000002')"
   ]
  },
  {
   "cell_type": "code",
   "execution_count": 74,
   "metadata": {},
   "outputs": [],
   "source": [
    "driver.find_element(By.XPATH, \"//div[@id='sslCertificateChecker-right']\").find_element(By.XPATH, \"//span[@class='btn-close closePopUp']\").click() #закрыть кнопку"
   ]
  },
  {
   "cell_type": "code",
   "execution_count": 75,
   "metadata": {},
   "outputs": [],
   "source": [
    "driver.find_element(By.XPATH, \"//div[@class='tabsNav d-flex align-items-end']\").find_element(By.XPATH, \"//a[contains(@href, 'process-info')]\").click() #нужная вкладка"
   ]
  },
  {
   "cell_type": "code",
   "execution_count": 76,
   "metadata": {},
   "outputs": [],
   "source": [
    "driver.find_element(By.XPATH, \"//div[@id='contractExecution']\").find_element(By.XPATH, \"//span[@class='general-chevron-handler rl-90 gp-chevron']\").click() #раскрыть список"
   ]
  },
  {
   "cell_type": "code",
   "execution_count": 77,
   "metadata": {},
   "outputs": [],
   "source": [
    "test = driver.find_element(By.XPATH, \"//div[@class='d-flex justify-content-between']\").find_element(By.XPATH, \"//a[@class='paginator-button paginator-button-next cursorPointer general-pagination-page-select-handler']\").click() #стрелочка"
   ]
  },
  {
   "cell_type": "code",
   "execution_count": 110,
   "metadata": {},
   "outputs": [
    {
     "name": "stdout",
     "output_type": "stream",
     "text": [
      "Requirement already satisfied: lxml in c:\\users\\belie\\test\\.env\\lib\\site-packages (5.3.0)\n"
     ]
    },
    {
     "name": "stderr",
     "output_type": "stream",
     "text": [
      "\n",
      "[notice] A new release of pip is available: 23.2.1 -> 25.0\n",
      "[notice] To update, run: python.exe -m pip install --upgrade pip\n"
     ]
    }
   ],
   "source": [
    "!pip install lxml"
   ]
  },
  {
   "cell_type": "code",
   "execution_count": 119,
   "metadata": {},
   "outputs": [
    {
     "name": "stdout",
     "output_type": "stream",
     "text": [
      "False\n",
      "False\n",
      "True\n"
     ]
    }
   ],
   "source": [
    "url = 'https://zakupki.gov.ru/epz/contract/contractCard/common-info.html?reestrNumber=2781615830924000002'\n",
    "id = '602162762'\n",
    "\n",
    "from bs4 import BeautifulSoup\n",
    "import time\n",
    "from lxml import html\n",
    "from selenium.common.exceptions import NoSuchElementException\n",
    "arrow = True\n",
    "# chrome_options = Options()\n",
    "# chrome_options.add_argument(\"--disable-extensions\")\n",
    "# chrome_options.add_argument(\"--disable-gpu\")\n",
    "# chrome_options.add_argument(\"--no-sandbox\") # linux only\n",
    "# chrome_options.add_argument(\"--headless=new\") # for Chrome >= 109\n",
    "# chrome_options.add_argument(\"--headless\")\n",
    "# chrome_options.headless = True # also works\n",
    "driver = webdriver.Chrome() #(options=chrome_options)\n",
    "wait = WebDriverWait(driver, 10)\n",
    "# url = input()\n",
    "# id = input()\n",
    "driver.get(url)\n",
    "#закрыть всплывающее окно\n",
    "driver.find_element(By.XPATH, \"//div[@id='sslCertificateChecker-right']\").find_element(By.XPATH, \"//span[@class='btn-close closePopUp']\").click()\n",
    "#перейти на вкладку \"Исполнение и расторжение\"\n",
    "wait.until(EC.visibility_of_element_located((By.XPATH, \"//div[@class='tabsNav d-flex align-items-end']\")))\n",
    "driver.find_element(By.XPATH, \"//div[@class='tabsNav d-flex align-items-end']\").find_element(By.XPATH, \"//a[contains(@href, 'process-info')]\").click()\n",
    "#раскрыть список\n",
    "#driver.find_element(By.XPATH, \"//div[@class='tabsNav d-flex align-items-end']\").find_element(By.XPATH, \"//a[contains(@href, 'process-info')]\").click()\n",
    "wait.until(EC.visibility_of_element_located((By.XPATH, \"//div[@id='contractExecution']\")))\n",
    "driver.find_element(By.XPATH, \"//div[@id='contractExecution']\").find_element(By.XPATH, \"//span[@class='general-chevron-handler rl-90 gp-chevron']\").click()\n",
    "\n",
    "while arrow:\n",
    "    try:\n",
    "        # time.sleep(5)\n",
    "        wait.until(EC.visibility_of_element_located((By.XPATH, \"//table[@class='blockInfo__table tableBlock grayBorderBottom']\")))\n",
    "        # time.sleep(5)\n",
    "        e = html.fromstring(driver.page_source)\n",
    "        # e.xpath\n",
    "        e = BeautifulSoup(driver.page_source)\n",
    "        _e = e.find('table', {\"class\": \"blockInfo__table tableBlock grayBorderBottom\"}) # .find_all(\"span\", {\"class\": \"tableBlock__col tableBlock__col_first\"})\n",
    "        # _e.\n",
    "        if id in _e.text:\n",
    "            arrow = False\n",
    "        else:\n",
    "            driver.find_element(By.XPATH, \"//div[@class='d-flex justify-content-between']\").find_element(By.XPATH, \"//a[@class='paginator-button paginator-button-next cursorPointer general-pagination-page-select-handler']\").click()\n",
    "        print(id in _e.text)\n",
    "        # e = driver.find_element(By.XPATH, \"//table[@class='blockInfo__table tableBlock grayBorderBottom']\").\n",
    "        \n",
    "        # .find_element(By.XPATH, f\"//span[contains(text(), '{id}')]\").text\n",
    "        # arrow = False\n",
    "        # print (f'Элемент {e} найден')\n",
    "    except Exception as e: # NoSuchElementException:\n",
    "        # print(driver.page_source)\n",
    "        pass\n",
    "    \n"
   ]
  },
  {
   "cell_type": "code",
   "execution_count": 94,
   "metadata": {},
   "outputs": [
    {
     "data": {
      "text/plain": [
       "'Идентификатор: 583582039'"
      ]
     },
     "execution_count": 94,
     "metadata": {},
     "output_type": "execute_result"
    }
   ],
   "source": [
    "driver.find_element(By.XPATH,\n",
    "            \"//div[@class='blockInfo__section']\"\n",
    ").find_element(By.XPATH, f\"//span[contains(text(), '{id}')]\").text"
   ]
  },
  {
   "cell_type": "code",
   "execution_count": null,
   "metadata": {},
   "outputs": [],
   "source": []
  },
  {
   "cell_type": "code",
   "execution_count": 66,
   "metadata": {},
   "outputs": [
    {
     "data": {
      "text/plain": [
       "'Идентификатор: 602162762'"
      ]
     },
     "execution_count": 66,
     "metadata": {},
     "output_type": "execute_result"
    }
   ],
   "source": [
    "driver.find_element(By.XPATH, \"//div[@class='blockInfo__section']\").find_element(By.XPATH, \"//span[contains(text(), '602162762')]\").text"
   ]
  }
 ],
 "metadata": {
  "kernelspec": {
   "display_name": ".env",
   "language": "python",
   "name": "python3"
  },
  "language_info": {
   "codemirror_mode": {
    "name": "ipython",
    "version": 3
   },
   "file_extension": ".py",
   "mimetype": "text/x-python",
   "name": "python",
   "nbconvert_exporter": "python",
   "pygments_lexer": "ipython3",
   "version": "3.12.1"
  }
 },
 "nbformat": 4,
 "nbformat_minor": 2
}
